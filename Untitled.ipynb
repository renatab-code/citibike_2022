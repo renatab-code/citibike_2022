{
 "cells": [
  {
   "cell_type": "code",
   "execution_count": null,
   "id": "898d0c60-8fbb-4f5a-8966-24c833dc31ca",
   "metadata": {},
   "outputs": [],
   "source": []
  }
 ],
 "metadata": {
  "kernelspec": {
   "display_name": "Python (citibike_2022)",
   "language": "python",
   "name": "citibike_2022"
  },
  "language_info": {
   "codemirror_mode": {
    "name": "ipython",
    "version": 3
   },
   "file_extension": ".py",
   "mimetype": "text/x-python",
   "name": "python",
   "nbconvert_exporter": "python",
   "pygments_lexer": "ipython3",
   "version": "3.10.18"
  }
 },
 "nbformat": 4,
 "nbformat_minor": 5
}
