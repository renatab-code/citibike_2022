{
 "cells": [
  {
   "cell_type": "code",
   "execution_count": 1,
   "id": "9e68a8c1-c994-4614-8ccd-4b1f67da8a37",
   "metadata": {},
   "outputs": [
    {
     "data": {
      "text/plain": [
       "(         date  trips  member_trips  casual_trips  mean_duration_min  TMAX  \\\n",
       " 0  2021-01-30      1             0             1      687646.693117   NaN   \n",
       " 1  2021-02-15      1             0             1      779090.164883   NaN   \n",
       " 2  2021-03-11      1             0             1      664503.451733   NaN   \n",
       " 3  2021-03-14      1             1             0      468320.034500   NaN   \n",
       " 4  2021-03-31      1             0             1      781858.025617   NaN   \n",
       " \n",
       "    TMIN  PRCP  SNOW  AWND  \n",
       " 0   NaN   NaN   NaN   NaN  \n",
       " 1   NaN   NaN   NaN   NaN  \n",
       " 2   NaN   NaN   NaN   NaN  \n",
       " 3   NaN   NaN   NaN   NaN  \n",
       " 4   NaN   NaN   NaN   NaN  ,\n",
       " (402, 10),\n",
       " 'citibike_weather_2022.csv')"
      ]
     },
     "execution_count": 1,
     "metadata": {},
     "output_type": "execute_result"
    }
   ],
   "source": [
    "import pandas as pd\n",
    "from pathlib import Path\n",
    "\n",
    "# ==== INPUTS ====\n",
    "# Weather CSV we just created in step 7\n",
    "wx_path = Path(\"laguardia_weather_2022.csv\")\n",
    "\n",
    "# EITHER: your already-merged trips file (fastest)\n",
    "trips_path = Path(\"citibike_2022.parquet\")  # <- change to .csv if that's what you saved\n",
    "\n",
    "# OR: uncomment this block to build from monthly raw files in extracted/ (slower)\n",
    "# monthly = sorted(Path(\"extracted/2022-citibike-tripdata\").glob(\"2022??-citibike-tripdata.csv\"))\n",
    "# if not monthly:\n",
    "#     raise FileNotFoundError(\"No monthly files found in extracted/2022-citibike-tripdata/\")\n",
    "# dfs = [pd.read_csv(f, low_memory=False) for f in monthly]\n",
    "# rides = pd.concat(dfs, ignore_index=True)\n",
    "\n",
    "# ---- Load rides (prefer your single file if available) ----\n",
    "if trips_path.suffix == \".parquet\" and trips_path.exists():\n",
    "    rides = pd.read_parquet(trips_path)\n",
    "elif trips_path.suffix == \".csv\" and trips_path.exists():\n",
    "    rides = pd.read_csv(trips_path, low_memory=False)\n",
    "else:\n",
    "    raise FileNotFoundError(\"Could not find your combined trips file. Point trips_path to it.\")\n",
    "\n",
    "# ---- Basic cleaning + daily aggregation ----\n",
    "# Ensure datetime\n",
    "rides[\"started_at\"] = pd.to_datetime(rides[\"started_at\"], errors=\"coerce\")\n",
    "rides[\"ended_at\"]   = pd.to_datetime(rides[\"ended_at\"],   errors=\"coerce\")\n",
    "\n",
    "# Filter bad rows\n",
    "rides = rides.dropna(subset=[\"started_at\", \"ended_at\"])\n",
    "\n",
    "# Duration in minutes\n",
    "rides[\"duration_min\"] = (rides[\"ended_at\"] - rides[\"started_at\"]).dt.total_seconds() / 60\n",
    "\n",
    "# Day column\n",
    "rides[\"date\"] = rides[\"started_at\"].dt.date\n",
    "\n",
    "# Daily metrics\n",
    "daily = (\n",
    "    rides.groupby(\"date\")\n",
    "         .agg(\n",
    "             trips=(\"ride_id\", \"count\"),\n",
    "             mean_duration_min=(\"duration_min\", \"mean\"),\n",
    "             member_trips=(\"member_casual\", lambda s: (s == \"member\").sum() if s.notna().any() else 0),\n",
    "             casual_trips=(\"member_casual\", lambda s: (s == \"casual\").sum() if s.notna().any() else 0)\n",
    "         )\n",
    "         .reset_index()\n",
    ")\n",
    "\n",
    "# ---- Load weather and merge ----\n",
    "wx = pd.read_csv(wx_path, parse_dates=[\"date\"])\n",
    "wx[\"date\"] = wx[\"date\"].dt.date  # to pure date to match\n",
    "\n",
    "merged = pd.merge(daily, wx, on=\"date\", how=\"left\").sort_values(\"date\")\n",
    "\n",
    "# Optional: re-order columns if present\n",
    "col_order = [c for c in [\"date\",\"trips\",\"member_trips\",\"casual_trips\",\"mean_duration_min\",\"TMAX\",\"TMIN\",\"PRCP\",\"SNOW\",\"AWND\"] if c in merged.columns]\n",
    "merged = merged[col_order + [c for c in merged.columns if c not in col_order]]\n",
    "\n",
    "# Save small, analysis-ready CSV (365 rows)\n",
    "out_csv = \"citibike_weather_2022.csv\"\n",
    "merged.to_csv(out_csv, index=False)\n",
    "merged.head(), merged.shape, out_csv\n"
   ]
  },
  {
   "cell_type": "markdown",
   "id": "aadcb511-6949-4fb5-b243-1a3484089251",
   "metadata": {},
   "source": [
    "- Loads your 2022 CitiBike trips, parses timestamps, computes trip duration, and creates a daily table (trips, mean duration, member vs casual counts).\n",
    "- Loads LaGuardia weather (daily) and left-joins on date.\n",
    "- Exports a small, analysis-ready file: citibike_weather_2022.csv."
   ]
  },
  {
   "cell_type": "code",
   "execution_count": null,
   "id": "0df1799f-412d-4150-a310-913444bfc3ec",
   "metadata": {},
   "outputs": [],
   "source": []
  }
 ],
 "metadata": {
  "kernelspec": {
   "display_name": "Python (citibike_2022)",
   "language": "python",
   "name": "citibike_2022"
  },
  "language_info": {
   "codemirror_mode": {
    "name": "ipython",
    "version": 3
   },
   "file_extension": ".py",
   "mimetype": "text/x-python",
   "name": "python",
   "nbconvert_exporter": "python",
   "pygments_lexer": "ipython3",
   "version": "3.10.18"
  }
 },
 "nbformat": 4,
 "nbformat_minor": 5
}
