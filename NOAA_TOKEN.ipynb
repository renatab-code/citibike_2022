{
 "cells": [
  {
   "cell_type": "code",
   "execution_count": 2,
   "id": "8fa5f05b-418c-4987-a925-3f5825b3ccef",
   "metadata": {},
   "outputs": [
    {
     "name": "stderr",
     "output_type": "stream",
     "text": [
      "/opt/anaconda3/envs/citibike_2022/lib/python3.10/site-packages/requests/__init__.py:86: RequestsDependencyWarning: Unable to find acceptable character detection dependency (chardet or charset_normalizer).\n",
      "  warnings.warn(\n"
     ]
    },
    {
     "ename": "HTTPError",
     "evalue": "400 Client Error:  for url: https://www.ncei.noaa.gov/cdo-web/api/v2/stations?datasetid=GHCND&extent=40.6%2C-74.1%2C41.0%2C-73.6&limit=1000",
     "output_type": "error",
     "traceback": [
      "\u001b[0;31m---------------------------------------------------------------------------\u001b[0m",
      "\u001b[0;31mHTTPError\u001b[0m                                 Traceback (most recent call last)",
      "Cell \u001b[0;32mIn[2], line 32\u001b[0m\n\u001b[1;32m     25\u001b[0m stations_url \u001b[38;5;241m=\u001b[39m \u001b[38;5;124mf\u001b[39m\u001b[38;5;124m\"\u001b[39m\u001b[38;5;132;01m{\u001b[39;00mBASE\u001b[38;5;132;01m}\u001b[39;00m\u001b[38;5;124m/stations\u001b[39m\u001b[38;5;124m\"\u001b[39m\n\u001b[1;32m     26\u001b[0m params \u001b[38;5;241m=\u001b[39m {\n\u001b[1;32m     27\u001b[0m     \u001b[38;5;124m\"\u001b[39m\u001b[38;5;124mdatasetid\u001b[39m\u001b[38;5;124m\"\u001b[39m: \u001b[38;5;124m\"\u001b[39m\u001b[38;5;124mGHCND\u001b[39m\u001b[38;5;124m\"\u001b[39m,\n\u001b[1;32m     28\u001b[0m     \u001b[38;5;124m\"\u001b[39m\u001b[38;5;124mextent\u001b[39m\u001b[38;5;124m\"\u001b[39m: extent,\n\u001b[1;32m     29\u001b[0m     \u001b[38;5;124m\"\u001b[39m\u001b[38;5;124mlimit\u001b[39m\u001b[38;5;124m\"\u001b[39m: \u001b[38;5;241m1000\u001b[39m,\n\u001b[1;32m     30\u001b[0m }\n\u001b[0;32m---> 32\u001b[0m stations \u001b[38;5;241m=\u001b[39m \u001b[43mget_json\u001b[49m\u001b[43m(\u001b[49m\u001b[43mstations_url\u001b[49m\u001b[43m,\u001b[49m\u001b[43m \u001b[49m\u001b[43mparams\u001b[49m\u001b[43m)\u001b[49m\u001b[38;5;241m.\u001b[39mget(\u001b[38;5;124m\"\u001b[39m\u001b[38;5;124mresults\u001b[39m\u001b[38;5;124m\"\u001b[39m, [])\n\u001b[1;32m     34\u001b[0m \u001b[38;5;66;03m# Prefer names that contain 'LAGUARDIA' or 'LA GUARDIA'\u001b[39;00m\n\u001b[1;32m     35\u001b[0m \u001b[38;5;28;01mdef\u001b[39;00m\u001b[38;5;250m \u001b[39m\u001b[38;5;21mlooks_like_lga\u001b[39m(name: \u001b[38;5;28mstr\u001b[39m) \u001b[38;5;241m-\u001b[39m\u001b[38;5;241m>\u001b[39m \u001b[38;5;28mbool\u001b[39m:\n",
      "Cell \u001b[0;32mIn[2], line 18\u001b[0m, in \u001b[0;36mget_json\u001b[0;34m(url, params, pause)\u001b[0m\n\u001b[1;32m     16\u001b[0m \u001b[38;5;250m\u001b[39m\u001b[38;5;124;03m\"\"\"Thin wrapper with tiny pause to be nice to the API.\"\"\"\u001b[39;00m\n\u001b[1;32m     17\u001b[0m r \u001b[38;5;241m=\u001b[39m SESSION\u001b[38;5;241m.\u001b[39mget(url, params\u001b[38;5;241m=\u001b[39mparams, timeout\u001b[38;5;241m=\u001b[39m\u001b[38;5;241m30\u001b[39m)\n\u001b[0;32m---> 18\u001b[0m \u001b[43mr\u001b[49m\u001b[38;5;241;43m.\u001b[39;49m\u001b[43mraise_for_status\u001b[49m\u001b[43m(\u001b[49m\u001b[43m)\u001b[49m\n\u001b[1;32m     19\u001b[0m time\u001b[38;5;241m.\u001b[39msleep(pause)\n\u001b[1;32m     20\u001b[0m \u001b[38;5;28;01mreturn\u001b[39;00m r\u001b[38;5;241m.\u001b[39mjson()\n",
      "File \u001b[0;32m/opt/anaconda3/envs/citibike_2022/lib/python3.10/site-packages/requests/models.py:1026\u001b[0m, in \u001b[0;36mResponse.raise_for_status\u001b[0;34m(self)\u001b[0m\n\u001b[1;32m   1021\u001b[0m     http_error_msg \u001b[38;5;241m=\u001b[39m (\n\u001b[1;32m   1022\u001b[0m         \u001b[38;5;124mf\u001b[39m\u001b[38;5;124m\"\u001b[39m\u001b[38;5;132;01m{\u001b[39;00m\u001b[38;5;28mself\u001b[39m\u001b[38;5;241m.\u001b[39mstatus_code\u001b[38;5;132;01m}\u001b[39;00m\u001b[38;5;124m Server Error: \u001b[39m\u001b[38;5;132;01m{\u001b[39;00mreason\u001b[38;5;132;01m}\u001b[39;00m\u001b[38;5;124m for url: \u001b[39m\u001b[38;5;132;01m{\u001b[39;00m\u001b[38;5;28mself\u001b[39m\u001b[38;5;241m.\u001b[39murl\u001b[38;5;132;01m}\u001b[39;00m\u001b[38;5;124m\"\u001b[39m\n\u001b[1;32m   1023\u001b[0m     )\n\u001b[1;32m   1025\u001b[0m \u001b[38;5;28;01mif\u001b[39;00m http_error_msg:\n\u001b[0;32m-> 1026\u001b[0m     \u001b[38;5;28;01mraise\u001b[39;00m HTTPError(http_error_msg, response\u001b[38;5;241m=\u001b[39m\u001b[38;5;28mself\u001b[39m)\n",
      "\u001b[0;31mHTTPError\u001b[0m: 400 Client Error:  for url: https://www.ncei.noaa.gov/cdo-web/api/v2/stations?datasetid=GHCND&extent=40.6%2C-74.1%2C41.0%2C-73.6&limit=1000"
     ]
    }
   ],
   "source": [
    "import os\n",
    "import re\n",
    "import math\n",
    "import time\n",
    "import requests\n",
    "import pandas as pd\n",
    "\n",
    "NOAA_TOKEN = os.getenv(\"NOAA_TOKEN\") or \"PASTE_YOUR_TOKEN_STRING_HERE\"\n",
    "\n",
    "SESSION = requests.Session()\n",
    "SESSION.headers.update({\"token\": NOAA_TOKEN})\n",
    "\n",
    "BASE = \"https://www.ncei.noaa.gov/cdo-web/api/v2\"\n",
    "\n",
    "def get_json(url, params, pause=0.4):\n",
    "    \"\"\"Thin wrapper with tiny pause to be nice to the API.\"\"\"\n",
    "    r = SESSION.get(url, params=params, timeout=30)\n",
    "    r.raise_for_status()\n",
    "    time.sleep(pause)\n",
    "    return r.json()\n",
    "\n",
    "# --- Step A: Find the correct GHCND station for LaGuardia (LGA) ---\n",
    "# Use a tight bounding box around LGA (~0.2°) and search GHCND stations.\n",
    "extent = \"40.6,-74.1,41.0,-73.6\"   # south,west,north,east (NYC area around LGA)\n",
    "stations_url = f\"{BASE}/stations\"\n",
    "params = {\n",
    "    \"datasetid\": \"GHCND\",\n",
    "    \"extent\": extent,\n",
    "    \"limit\": 1000,\n",
    "}\n",
    "\n",
    "stations = get_json(stations_url, params).get(\"results\", [])\n",
    "\n",
    "# Prefer names that contain 'LAGUARDIA' or 'LA GUARDIA'\n",
    "def looks_like_lga(name: str) -> bool:\n",
    "    return bool(re.search(r\"\\bLA ?GUARDIA\\b\", name.upper()))\n",
    "\n",
    "candidates = [s for s in stations if looks_like_lga(s.get(\"name\",\"\"))]\n",
    "\n",
    "if not candidates:\n",
    "    # fallback: take the closest “USW000…” airport station in the box\n",
    "    candidates = [s for s in stations if s[\"id\"].startswith(\"GHCND:USW\")]\n",
    "\n",
    "if not candidates:\n",
    "    raise RuntimeError(\"Could not find a suitable station near LaGuardia.\")\n",
    "\n",
    "# Usually this resolves to GHCND:USW00014732 (LaGuardia Airport)\n",
    "station = sorted(candidates, key=lambda s: len(s[\"name\"]))[0]\n",
    "station_id = station[\"id\"]\n",
    "station[\"id\"], station[\"name\"]\n"
   ]
  },
  {
   "cell_type": "code",
   "execution_count": 4,
   "id": "9b5521d5-a24d-402d-862b-cd84bd3e459e",
   "metadata": {},
   "outputs": [
    {
     "data": {
      "text/plain": [
       "(1000,\n",
       " [{'date': '2022-01-01T00:00:00',\n",
       "   'datatype': 'ADPT',\n",
       "   'station': 'GHCND:USW00014732',\n",
       "   'attributes': ',,W,',\n",
       "   'value': 100},\n",
       "  {'date': '2022-01-01T00:00:00',\n",
       "   'datatype': 'ASLP',\n",
       "   'station': 'GHCND:USW00014732',\n",
       "   'attributes': ',,W,',\n",
       "   'value': 10078},\n",
       "  {'date': '2022-01-01T00:00:00',\n",
       "   'datatype': 'ASTP',\n",
       "   'station': 'GHCND:USW00014732',\n",
       "   'attributes': ',,W,',\n",
       "   'value': 10078}])"
      ]
     },
     "execution_count": 4,
     "metadata": {},
     "output_type": "execute_result"
    }
   ],
   "source": [
    "import os, requests, pandas as pd\n",
    "from datetime import date\n",
    "\n",
    "NOAA_TOKEN = os.getenv(\"NOAA_TOKEN\", \"QNXPwAeNDheFnZzPsFnbzqaSbKdsucXw\")\n",
    "BASE = \"https://www.ncei.noaa.gov/cdo-web/api/v2\"\n",
    "SESSION = requests.Session()\n",
    "SESSION.headers.update({\"token\": NOAA_TOKEN})\n",
    "\n",
    "STATION_ID = \"GHCND:USW00014732\"   # LaGuardia\n",
    "START = \"2022-01-01\"\n",
    "END   = \"2022-12-31\"\n",
    "\n",
    "params = {\n",
    "    \"datasetid\": \"GHCND\",\n",
    "    \"stationid\": STATION_ID,\n",
    "    \"startdate\": START,\n",
    "    \"enddate\": END,\n",
    "    \"units\": \"standard\",   # 'standard' = inches/°F; 'metric' also works\n",
    "    \"limit\": 1000\n",
    "}\n",
    "\n",
    "r = SESSION.get(f\"{BASE}/data\", params=params, timeout=30)\n",
    "r.raise_for_status()\n",
    "raw = r.json().get(\"results\", [])\n",
    "\n",
    "len(raw), raw[:3]\n"
   ]
  },
  {
   "cell_type": "code",
   "execution_count": 6,
   "id": "868d35c7-f1a0-448d-8dc9-84505658c39b",
   "metadata": {},
   "outputs": [
    {
     "data": {
      "text/plain": [
       "(         date  TMAX  TMIN  PRCP  SNOW  AWND\n",
       " 0  2022-01-01  57.0  50.0  0.76   0.0   6.3\n",
       " 1  2022-01-02  60.0  39.0  0.04   0.0   9.6\n",
       " 2  2022-01-03  39.0  24.0  0.00   0.0  14.3\n",
       " 3  2022-01-04  36.0  21.0  0.00   0.0   8.7\n",
       " 4  2022-01-05  48.0  32.0  0.24   0.0   7.6,\n",
       " (54, 6))"
      ]
     },
     "execution_count": 6,
     "metadata": {},
     "output_type": "execute_result"
    }
   ],
   "source": [
    "# Raw is long format (date, datatype, value). Pivot to wide per day.\n",
    "df = pd.DataFrame(raw)\n",
    "df[\"date\"] = pd.to_datetime(df[\"date\"]).dt.date\n",
    "\n",
    "wide = (\n",
    "    df.pivot_table(index=\"date\", columns=\"datatype\", values=\"value\", aggfunc=\"first\")\n",
    "      .rename_axis(None, axis=1)\n",
    "      .reset_index()\n",
    ")\n",
    "\n",
    "# Keep common fields (present when available at station):\n",
    "cols = [c for c in [\"date\",\"TMAX\",\"TMIN\",\"PRCP\",\"SNOW\",\"AWND\"] if c in wide.columns]\n",
    "wide = wide[cols]\n",
    "\n",
    "# Optional unit tweaks (NOAA GHCND uses tenths for some variables when 'metric';\n",
    "# with units='standard' above values are already in °F and inches; keep as-is.)\n",
    "# If you used units='metric' you'll often need:\n",
    "#   wide[\"TMAX\"] = wide[\"TMAX\"] / 10.0\n",
    "#   wide[\"TMIN\"] = wide[\"TMIN\"] / 10.0\n",
    "#   wide[\"PRCP\"] = wide[\"PRCP\"] / 10.0  # mm\n",
    "#   wide[\"AWND\"] = wide[\"AWND\"] / 10.0  # m/s\n",
    "\n",
    "wide.sort_values(\"date\", inplace=True)\n",
    "wide.to_csv(\"laguardia_weather_2022.csv\", index=False)\n",
    "wide.head(), wide.shape\n"
   ]
  },
  {
   "cell_type": "code",
   "execution_count": null,
   "id": "4807fffc-9b7a-42de-bc4b-960a0450785d",
   "metadata": {},
   "outputs": [],
   "source": []
  }
 ],
 "metadata": {
  "kernelspec": {
   "display_name": "Python (citibike_2022)",
   "language": "python",
   "name": "citibike_2022"
  },
  "language_info": {
   "codemirror_mode": {
    "name": "ipython",
    "version": 3
   },
   "file_extension": ".py",
   "mimetype": "text/x-python",
   "name": "python",
   "nbconvert_exporter": "python",
   "pygments_lexer": "ipython3",
   "version": "3.10.18"
  }
 },
 "nbformat": 4,
 "nbformat_minor": 5
}
