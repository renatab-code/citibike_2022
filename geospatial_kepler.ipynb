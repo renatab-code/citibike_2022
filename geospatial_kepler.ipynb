{
 "cells": [
  {
   "cell_type": "code",
   "execution_count": 30,
   "id": "0253f172-0256-402e-8b7f-01f559243445",
   "metadata": {},
   "outputs": [],
   "source": [
    "import numpy as np\n",
    "import pandas as pd\n",
    "\n",
    "def _to_num(s):\n",
    "    return pd.to_numeric(s, errors=\"coerce\")\n",
    "\n",
    "# Sanitize nodes\n",
    "nodes[\"lat\"] = _to_num(nodes[\"lat\"])\n",
    "nodes[\"lng\"] = _to_num(nodes[\"lng\"])\n",
    "nodes = nodes.dropna(subset=[\"lat\", \"lng\"])\n",
    "nodes = nodes[(nodes[\"lat\"].between(-90, 90)) & (nodes[\"lng\"].between(-180, 180))]\n",
    "\n",
    "# Sanitize OD\n",
    "od[\"start_lat\"] = _to_num(od[\"start_lat\"])\n",
    "od[\"start_lng\"] = _to_num(od[\"start_lng\"])\n",
    "od[\"end_lat\"]   = _to_num(od[\"end_lat\"])\n",
    "od[\"end_lng\"]   = _to_num(od[\"end_lng\"])\n",
    "od[\"count\"]     = _to_num(od.get(\"count\", 1))\n",
    "\n",
    "od = od.dropna(subset=[\"start_lat\",\"start_lng\",\"end_lat\",\"end_lng\",\"count\"])\n",
    "od = od[\n",
    "    od[\"start_lat\"].between(-90, 90)  & od[\"start_lng\"].between(-180, 180) &\n",
    "    od[\"end_lat\"].between(-90, 90)    & od[\"end_lng\"].between(-180, 180)\n",
    "]\n"
   ]
  },
  {
   "cell_type": "code",
   "execution_count": 32,
   "id": "d21a1e5e-a7b4-41dc-a187-335623c2e05b",
   "metadata": {},
   "outputs": [],
   "source": [
    "# Create an OD dataframe (origin-destination flows)\n",
    "df[\"trip\"] = 1   # add column with 1 trip per row\n",
    "\n",
    "od = (\n",
    "    df.groupby(\n",
    "        [\"start_station_name\", \"start_lat\", \"start_lng\",\n",
    "         \"end_station_name\", \"end_lat\", \"end_lng\"]\n",
    "    )[\"trip\"]\n",
    "    .count()\n",
    "    .reset_index()\n",
    "    .rename(columns={\"trip\": \"count\"})\n",
    ")\n"
   ]
  },
  {
   "cell_type": "code",
   "execution_count": 33,
   "id": "587135e8-c754-48cf-bdd7-0ce82b21871d",
   "metadata": {},
   "outputs": [
    {
     "name": "stderr",
     "output_type": "stream",
     "text": [
      "/var/folders/pt/j8m6nsxn4_bc4m4ztc59tl380000gp/T/ipykernel_34458/2686370810.py:4: DtypeWarning: Columns (5,7) have mixed types. Specify dtype option on import or set low_memory=False.\n",
      "  df = pd.read_csv(\"extracted/csvs/202201-citibike-tripdata_1.csv\")\n"
     ]
    },
    {
     "name": "stdout",
     "output_type": "stream",
     "text": [
      "Index(['ride_id', 'rideable_type', 'started_at', 'ended_at',\n",
      "       'start_station_name', 'start_station_id', 'end_station_name',\n",
      "       'end_station_id', 'start_lat', 'start_lng'],\n",
      "      dtype='object')\n",
      "1000000\n"
     ]
    }
   ],
   "source": [
    "import pandas as pd\n",
    "\n",
    "# adjust to one of your extracted CSVs\n",
    "df = pd.read_csv(\"extracted/csvs/202201-citibike-tripdata_1.csv\")\n",
    "\n",
    "print(df.columns[:10])   # quick check\n",
    "print(len(df))           # number of rows\n"
   ]
  },
  {
   "cell_type": "code",
   "execution_count": 34,
   "id": "c6f8b286-3ce4-46f2-852c-121330dc9fc7",
   "metadata": {},
   "outputs": [],
   "source": [
    "df = pd.read_csv(\"extracted/csvs/202201-citibike-tripdata_1.csv\", low_memory=False)\n"
   ]
  },
  {
   "cell_type": "markdown",
   "id": "d2b4ddc7-b5db-4a48-9d45-441023ff0149",
   "metadata": {},
   "source": [
    "## OD - Dataframe"
   ]
  },
  {
   "cell_type": "code",
   "execution_count": 35,
   "id": "76c0869f-b4cd-4a66-aa18-ca599467b273",
   "metadata": {},
   "outputs": [
    {
     "name": "stdout",
     "output_type": "stream",
     "text": [
      "  start_station_name  start_lat  start_lng  end_station_name    end_lat  \\\n",
      "0   1 Ave & E 110 St  40.792327   -73.9383  1 Ave & E 110 St  40.792327   \n",
      "1   1 Ave & E 110 St  40.792327   -73.9383   1 Ave & E 44 St  40.750020   \n",
      "2   1 Ave & E 110 St  40.792327   -73.9383   1 Ave & E 68 St  40.765005   \n",
      "3   1 Ave & E 110 St  40.792327   -73.9383   1 Ave & E 78 St  40.771404   \n",
      "4   1 Ave & E 110 St  40.792327   -73.9383   1 Ave & E 94 St  40.781721   \n",
      "\n",
      "     end_lng  count  \n",
      "0 -73.938300     27  \n",
      "1 -73.969053      2  \n",
      "2 -73.958185      1  \n",
      "3 -73.953517      3  \n",
      "4 -73.945940     15  \n"
     ]
    }
   ],
   "source": [
    "# Add trip counter column\n",
    "df[\"trip\"] = 1\n",
    "\n",
    "# Aggregate by start & end stations\n",
    "od = (\n",
    "    df.groupby(\n",
    "        [\"start_station_name\", \"start_lat\", \"start_lng\",\n",
    "         \"end_station_name\", \"end_lat\", \"end_lng\"]\n",
    "    )[\"trip\"]\n",
    "    .count()\n",
    "    .reset_index()\n",
    "    .rename(columns={\"trip\": \"count\"})\n",
    ")\n",
    "\n",
    "print(od.head())\n"
   ]
  },
  {
   "cell_type": "markdown",
   "id": "e8bdd7c2-2d57-4aa2-a6db-6b9ce176eaa4",
   "metadata": {},
   "source": [
    "## Nodes Dataframe"
   ]
  },
  {
   "cell_type": "code",
   "execution_count": 36,
   "id": "f48078d9-1121-4c61-98ac-7bcb0bda2450",
   "metadata": {},
   "outputs": [
    {
     "name": "stdout",
     "output_type": "stream",
     "text": [
      "                   station        lat        lng\n",
      "0  West End Ave & W 107 St  40.802117 -73.968181\n",
      "1             4 Ave & 3 St  40.673746 -73.985649\n",
      "2          1 Ave & E 62 St  40.761227 -73.960940\n",
      "3          2 Ave & E 96 St  40.783964 -73.947167\n",
      "4          6 Ave & W 34 St  40.749640 -73.988050\n",
      "2263 unique stations\n"
     ]
    }
   ],
   "source": [
    "# Collect unique station locations\n",
    "nodes_start = df[[\"start_station_name\", \"start_lat\", \"start_lng\"]].rename(\n",
    "    columns={\"start_station_name\":\"station\", \"start_lat\":\"lat\", \"start_lng\":\"lng\"}\n",
    ")\n",
    "nodes_end = df[[\"end_station_name\", \"end_lat\", \"end_lng\"]].rename(\n",
    "    columns={\"end_station_name\":\"station\", \"end_lat\":\"lat\", \"end_lng\":\"lng\"}\n",
    ")\n",
    "\n",
    "nodes = pd.concat([nodes_start, nodes_end]).drop_duplicates().reset_index(drop=True)\n",
    "\n",
    "print(nodes.head())\n",
    "print(len(nodes), \"unique stations\")\n"
   ]
  },
  {
   "cell_type": "markdown",
   "id": "841e28a4-f10c-42a1-b2b9-a3c55ee0ad6a",
   "metadata": {},
   "source": [
    "## Add a trip flag and build the OD table (plus a nodes table)"
   ]
  },
  {
   "cell_type": "code",
   "execution_count": 37,
   "id": "4bac34b3-20e6-4bf5-b8ae-02be99b321e0",
   "metadata": {},
   "outputs": [
    {
     "data": {
      "text/plain": [
       "(209851, 2260)"
      ]
     },
     "execution_count": 37,
     "metadata": {},
     "output_type": "execute_result"
    }
   ],
   "source": [
    "# 1 trip per row\n",
    "df[\"trip\"] = 1\n",
    "\n",
    "# clean coordinates\n",
    "for c in [\"start_lat\",\"start_lng\",\"end_lat\",\"end_lng\"]:\n",
    "    df[c] = pd.to_numeric(df[c], errors=\"coerce\")\n",
    "df = df.dropna(subset=[\"start_lat\",\"start_lng\",\"end_lat\",\"end_lng\"])\n",
    "df = df[\n",
    "    df[\"start_lat\"].between(-90,90) & df[\"end_lat\"].between(-90,90) &\n",
    "    df[\"start_lng\"].between(-180,180) & df[\"end_lng\"].between(-180,180)\n",
    "]\n",
    "\n",
    "# OD (origin→destination) counts\n",
    "od = (\n",
    "    df.groupby(\n",
    "        [\"start_station_name\",\"start_lat\",\"start_lng\",\n",
    "         \"end_station_name\",\"end_lat\",\"end_lng\"],\n",
    "        dropna=False\n",
    "    )[\"trip\"]\n",
    "    .count()\n",
    "    .reset_index()\n",
    "    .rename(columns={\"trip\":\"count\"})\n",
    ")\n",
    "\n",
    "# Nodes (unique stations)\n",
    "nodes_start = df[[\"start_station_name\",\"start_lat\",\"start_lng\"]].rename(\n",
    "    columns={\"start_station_name\":\"station\",\"start_lat\":\"lat\",\"start_lng\":\"lng\"}\n",
    ")\n",
    "nodes_end = df[[\"end_station_name\",\"end_lat\",\"end_lng\"]].rename(\n",
    "    columns={\"end_station_name\":\"station\",\"end_lat\":\"lat\",\"end_lng\":\"lng\"}\n",
    ")\n",
    "nodes = pd.concat([nodes_start, nodes_end], ignore_index=True).drop_duplicates()\n",
    "\n",
    "len(od), len(nodes)\n"
   ]
  },
  {
   "cell_type": "markdown",
   "id": "5aec3533-cf74-43c7-8aac-57005bfeef1f",
   "metadata": {},
   "source": [
    "## Initialize a Kepler.gl map"
   ]
  },
  {
   "cell_type": "code",
   "execution_count": 38,
   "id": "9f1071c0-ea3a-4fb0-93b7-d9bc57660c85",
   "metadata": {},
   "outputs": [
    {
     "name": "stdout",
     "output_type": "stream",
     "text": [
      "User Guide: https://docs.kepler.gl/docs/keplergl-jupyter\n"
     ]
    },
    {
     "data": {
      "application/vnd.jupyter.widget-view+json": {
       "model_id": "815c1b281ec04bebaf436239e7510157",
       "version_major": 2,
       "version_minor": 0
      },
      "text/plain": [
       "KeplerGl(height=650)"
      ]
     },
     "execution_count": 38,
     "metadata": {},
     "output_type": "execute_result"
    }
   ],
   "source": [
    "from keplergl import KeplerGl\n",
    "\n",
    "m = KeplerGl(height=650)\n",
    "m\n"
   ]
  },
  {
   "cell_type": "markdown",
   "id": "6b9e12d9-eb2b-43d2-b21f-d719cae62478",
   "metadata": {},
   "source": [
    "## Add layers & styling (points + arcs)"
   ]
  },
  {
   "cell_type": "code",
   "execution_count": 39,
   "id": "0e5dd238-9277-44e0-8841-f822e558d482",
   "metadata": {},
   "outputs": [
    {
     "name": "stderr",
     "output_type": "stream",
     "text": [
      "/opt/anaconda3/envs/citibike_2022/lib/python3.10/site-packages/jupyter_client/session.py:721: UserWarning: Message serialization failed with:\n",
      "Out of range float values are not JSON compliant\n",
      "Supporting this message is deprecated in jupyter-client 7, please make sure your message is JSON-compliant\n",
      "  content = self.pack(content)\n",
      "/opt/anaconda3/envs/citibike_2022/lib/python3.10/site-packages/jupyter_client/session.py:721: UserWarning: Message serialization failed with:\n",
      "Out of range float values are not JSON compliant\n",
      "Supporting this message is deprecated in jupyter-client 7, please make sure your message is JSON-compliant\n",
      "  content = self.pack(content)\n"
     ]
    },
    {
     "data": {
      "application/vnd.jupyter.widget-view+json": {
       "model_id": "815c1b281ec04bebaf436239e7510157",
       "version_major": 2,
       "version_minor": 0
      },
      "text/plain": [
       "KeplerGl(config={'version': 'v1', 'config': {'visState': {'filters': [], 'layers': [{'id': 'stations-layer', '…"
      ]
     },
     "execution_count": 39,
     "metadata": {},
     "output_type": "execute_result"
    }
   ],
   "source": [
    "# Add data\n",
    "m.add_data(data=nodes, name=\"Stations\")\n",
    "m.add_data(data=od,    name=\"OD Trips\")\n",
    "\n",
    "# Configure: point layer for stations, arc layer for flows\n",
    "config = {\n",
    "  \"version\": \"v1\",\n",
    "  \"config\": {\n",
    "    \"visState\": {\n",
    "      \"filters\": [],\n",
    "      \"layers\": [\n",
    "        {\n",
    "          \"id\": \"stations-layer\",\n",
    "          \"type\": \"point\",\n",
    "          \"config\": {\n",
    "            \"dataId\": \"Stations\",\n",
    "            \"label\": \"Stations\",\n",
    "            \"color\": [30, 144, 255],  # DodgerBlue\n",
    "            \"columns\": {\"lat\": \"lat\", \"lng\": \"lng\", \"altitude\": None},\n",
    "            \"isVisible\": True,\n",
    "            \"visConfig\": {\n",
    "              \"radius\": 4,\n",
    "              \"opacity\": 0.8,\n",
    "              \"outline\": False\n",
    "            }\n",
    "          }\n",
    "        },\n",
    "        {\n",
    "          \"id\": \"od-arc-layer\",\n",
    "          \"type\": \"arc\",\n",
    "          \"config\": {\n",
    "            \"dataId\": \"OD Trips\",\n",
    "            \"label\": \"OD Trips\",\n",
    "            \"color\": [255, 99, 71],   # Tomato\n",
    "            \"columns\": {\n",
    "              \"lat0\": \"start_lat\", \"lng0\": \"start_lng\",\n",
    "              \"lat1\": \"end_lat\",   \"lng1\": \"end_lng\"\n",
    "            },\n",
    "            \"isVisible\": True,\n",
    "            \"visConfig\": {\n",
    "              \"opacity\": 0.6,\n",
    "              \"thickness\": 2,\n",
    "              \"colorRange\": {\"name\":\"ColorBrewer Reds-6\", \"type\":\"sequential\"},\n",
    "              \"sizeRange\": [1, 8],\n",
    "            }\n",
    "          },\n",
    "          \"visualChannels\": {\n",
    "            \"sizeField\": {\"name\": \"count\", \"type\": \"integer\"},\n",
    "            \"sizeScale\": \"sqrt\"\n",
    "          }\n",
    "        }\n",
    "      ],\n",
    "      \"interactionConfig\": {\n",
    "        \"tooltip\": {\n",
    "          \"fieldsToShow\": {\n",
    "            \"Stations\": [{\"name\":\"station\",\"format\":None}],\n",
    "            \"OD Trips\": [\n",
    "              {\"name\":\"start_station_name\",\"format\":None},\n",
    "              {\"name\":\"end_station_name\",\"format\":None},\n",
    "              {\"name\":\"count\",\"format\":\",\"}\n",
    "            ]\n",
    "          }\n",
    "        }\n",
    "      }\n",
    "    },\n",
    "    \"mapState\": {\"latitude\":40.75,\"longitude\":-73.97,\"zoom\":11,\"pitch\":45,\"bearing\":0},\n",
    "    \"mapStyle\": {\"styleType\":\"dark\"}\n",
    "  }\n",
    "}\n",
    "\n",
    "m.config = config\n",
    "m\n"
   ]
  },
  {
   "cell_type": "markdown",
   "id": "9aa568fc-6b01-430f-99bb-a8b8ecb04f3b",
   "metadata": {},
   "source": [
    "## Clean the data for Kepler (no NaN / no ±Inf / reasonable dtypes)"
   ]
  },
  {
   "cell_type": "code",
   "execution_count": 40,
   "id": "e4a3a280-9ede-489e-87f9-48e129885c11",
   "metadata": {},
   "outputs": [],
   "source": [
    "import numpy as np\n",
    "import pandas as pd\n",
    "\n",
    "def kepler_safe(df, float_cols, int_cols=(), dropna_cols=()):\n",
    "    \"\"\"Return a copy of df that is safe to JSON-serialize for Kepler.\"\"\"\n",
    "    out = df.copy()\n",
    "\n",
    "    # Replace infs -> NaN then drop required NaNs\n",
    "    out = out.replace([np.inf, -np.inf], np.nan)\n",
    "    if dropna_cols:\n",
    "        out = out.dropna(subset=list(dropna_cols))\n",
    "\n",
    "    # Ensure pure float64 for coordinates (json-friendly) and round a bit\n",
    "    for c in float_cols:\n",
    "        out[c] = pd.to_numeric(out[c], errors=\"coerce\").astype(\"float64\")\n",
    "    if float_cols:\n",
    "        out[float_cols] = out[float_cols].round(6)\n",
    "\n",
    "    # Int columns (e.g., counts)\n",
    "    for c in int_cols:\n",
    "        out[c] = pd.to_numeric(out[c], errors=\"coerce\").fillna(0).astype(\"int32\")\n",
    "\n",
    "    # Replace remaining NaN with None (valid JSON null)\n",
    "    out = out.where(pd.notnull(out), None)\n",
    "    return out\n"
   ]
  },
  {
   "cell_type": "code",
   "execution_count": 41,
   "id": "e1c5f52e-f7fa-4aae-bbab-8c2656cd60e5",
   "metadata": {},
   "outputs": [
    {
     "data": {
      "text/plain": [
       "(2260, 209851, 428)"
      ]
     },
     "execution_count": 41,
     "metadata": {},
     "output_type": "execute_result"
    }
   ],
   "source": [
    "# For safety, keep only the columns Kepler needs\n",
    "nodes_k = nodes[[\"station\", \"lat\", \"lng\"]].copy()\n",
    "od_k = od[[\n",
    "    \"start_station_name\",\"start_lat\",\"start_lng\",\n",
    "    \"end_station_name\",\"end_lat\",\"end_lng\",\"count\"\n",
    "]].copy()\n",
    "\n",
    "nodes_k = kepler_safe(\n",
    "    nodes_k,\n",
    "    float_cols=[\"lat\",\"lng\"],\n",
    "    dropna_cols=[\"lat\",\"lng\"]\n",
    ")\n",
    "\n",
    "od_k = kepler_safe(\n",
    "    od_k,\n",
    "    float_cols=[\"start_lat\",\"start_lng\",\"end_lat\",\"end_lng\"],\n",
    "    int_cols=[\"count\"],\n",
    "    dropna_cols=[\"start_lat\",\"start_lng\",\"end_lat\",\"end_lng\"]\n",
    ")\n",
    "\n",
    "len(nodes_k), len(od_k), od_k[\"count\"].max()\n"
   ]
  },
  {
   "cell_type": "code",
   "execution_count": 42,
   "id": "e402ae9f-b5ea-491c-8b23-f4010fb8b513",
   "metadata": {},
   "outputs": [],
   "source": [
    "# show only the top N flows to keep the widget light\n",
    "TOP = 5000\n",
    "od_k = od_k.sort_values(\"count\", ascending=False).head(TOP)\n"
   ]
  },
  {
   "cell_type": "markdown",
   "id": "e0c663ee-fffc-4749-80d0-da5089e9d1b5",
   "metadata": {},
   "source": [
    "## Rebuild the map from clean data"
   ]
  },
  {
   "cell_type": "code",
   "execution_count": 43,
   "id": "9881cafb-81e8-4b39-9adf-ee12acdb854e",
   "metadata": {},
   "outputs": [
    {
     "name": "stdout",
     "output_type": "stream",
     "text": [
      "User Guide: https://docs.kepler.gl/docs/keplergl-jupyter\n"
     ]
    },
    {
     "data": {
      "application/vnd.jupyter.widget-view+json": {
       "model_id": "1448f5dddb7948629edeaeb361b46a1c",
       "version_major": 2,
       "version_minor": 0
      },
      "text/plain": [
       "KeplerGl(config={'version': 'v1', 'config': {'visState': {'filters': [], 'layers': [{'id': 'stations-layer', '…"
      ]
     },
     "execution_count": 43,
     "metadata": {},
     "output_type": "execute_result"
    }
   ],
   "source": [
    "from keplergl import KeplerGl\n",
    "\n",
    "m = KeplerGl(height=650)\n",
    "m.add_data(nodes_k, name=\"Stations\")\n",
    "m.add_data(od_k,    name=\"OD Trips\")\n",
    "\n",
    "# (re)apply your config (same as you used before)\n",
    "m.config = config   # reuse the config dict you set earlier\n",
    "m\n"
   ]
  },
  {
   "cell_type": "markdown",
   "id": "c3b441c2-67e9-4c38-8ffe-63f69703ab48",
   "metadata": {},
   "source": [
    "## Build & customize the Kepler map (points + arcs, with colors)"
   ]
  },
  {
   "cell_type": "code",
   "execution_count": 23,
   "id": "6adb73c3-fd9d-4296-86c9-1680c49bde5c",
   "metadata": {},
   "outputs": [
    {
     "name": "stdout",
     "output_type": "stream",
     "text": [
      "User Guide: https://docs.kepler.gl/docs/keplergl-jupyter\n"
     ]
    },
    {
     "name": "stderr",
     "output_type": "stream",
     "text": [
      "/opt/anaconda3/envs/citibike_2022/lib/python3.10/site-packages/jupyter_client/session.py:721: UserWarning: Message serialization failed with:\n",
      "Out of range float values are not JSON compliant\n",
      "Supporting this message is deprecated in jupyter-client 7, please make sure your message is JSON-compliant\n",
      "  content = self.pack(content)\n",
      "/opt/anaconda3/envs/citibike_2022/lib/python3.10/site-packages/jupyter_client/session.py:721: UserWarning: Message serialization failed with:\n",
      "Out of range float values are not JSON compliant\n",
      "Supporting this message is deprecated in jupyter-client 7, please make sure your message is JSON-compliant\n",
      "  content = self.pack(content)\n"
     ]
    },
    {
     "data": {
      "application/vnd.jupyter.widget-view+json": {
       "model_id": "0a05780545cb47f2a6f87a5ae20e2f26",
       "version_major": 2,
       "version_minor": 0
      },
      "text/plain": [
       "KeplerGl(config={'version': 'v1', 'config': {'visState': {'layers': [{'id': 'stations_layer', 'type': 'point',…"
      ]
     },
     "execution_count": 23,
     "metadata": {},
     "output_type": "execute_result"
    }
   ],
   "source": [
    "from keplergl import KeplerGl\n",
    "\n",
    "# OPTIONAL: pick a map center you like\n",
    "MAP_CENTER = dict(longitude=-73.98, latitude=40.73, zoom=11.5, pitch=45, bearing=0)\n",
    "\n",
    "# A small helper so the filter upper bound matches your data\n",
    "max_count = int(od[\"count\"].max()) if \"count\" in od.columns else 100\n",
    "\n",
    "# Kepler configuration: one Point layer (stations) + one Arc layer (OD flows)\n",
    "kepler_config = {\n",
    "    \"version\": \"v1\",\n",
    "    \"config\": {\n",
    "        \"visState\": {\n",
    "            \"layers\": [\n",
    "                {\n",
    "                    \"id\": \"stations_layer\",\n",
    "                    \"type\": \"point\",\n",
    "                    \"config\": {\n",
    "                        \"dataId\": \"Stations\",\n",
    "                        \"label\": \"Stations\",\n",
    "                        \"color\": [34, 63, 154],      # deep blue\n",
    "                        \"columns\": {\"lat\": \"lat\", \"lng\": \"lng\", \"altitude\": None},\n",
    "                        \"isVisible\": True,\n",
    "                        \"visConfig\": {\n",
    "                            \"radius\": 6,\n",
    "                            \"opacity\": 0.7,\n",
    "                            \"outline\": False\n",
    "                        }\n",
    "                    }\n",
    "                },\n",
    "                {\n",
    "                    \"id\": \"od_arcs_layer\",\n",
    "                    \"type\": \"arc\",\n",
    "                    \"config\": {\n",
    "                        \"dataId\": \"OD Trips\",\n",
    "                        \"label\": \"OD Trips\",\n",
    "                        \"color\": [230, 85, 13],      # warm orange\n",
    "                        \"columns\": {\n",
    "                            \"lat0\": \"start_lat\",\n",
    "                            \"lng0\": \"start_lng\",\n",
    "                            \"lat1\": \"end_lat\",\n",
    "                            \"lng1\": \"end_lng\"\n",
    "                        },\n",
    "                        \"isVisible\": True,\n",
    "                        \"visConfig\": {\n",
    "                            \"opacity\": 0.35,\n",
    "                            \"thickness\": 1.0,\n",
    "                            \"colorRange\": {\n",
    "                                \"name\": \"OrRd\",\n",
    "                                \"type\": \"sequential\",\n",
    "                                \"category\": \"ColorBrewer\",\n",
    "                                \"colors\": [\"#fee8c8\",\"#fdbb84\",\"#e34a33\"]\n",
    "                            }\n",
    "                        }\n",
    "                    }\n",
    "                }\n",
    "            ],\n",
    "            # We’ll add a count filter in Step 6; leaving empty for now keeps it simple\n",
    "            \"filters\": [],\n",
    "        },\n",
    "        \"mapState\": MAP_CENTER,\n",
    "        \"mapStyle\": {\"styleType\": \"dark\"}  # try \"light\", \"dark\", \"satellite\", etc.\n",
    "    }\n",
    "}\n",
    "\n",
    "# Initialize map and add data\n",
    "m = KeplerGl(height=700, config=kepler_config)\n",
    "m.add_data(data=nodes, name=\"Stations\")\n",
    "m.add_data(data=od,    name=\"OD Trips\")\n",
    "\n",
    "m  # ← renders the Kepler widget in Jupyter\n"
   ]
  },
  {
   "cell_type": "code",
   "execution_count": 28,
   "id": "dbb52b7b-bce9-4585-baf1-570a5855dec8",
   "metadata": {},
   "outputs": [],
   "source": [
    "od[\"count\"] = od[\"count\"].astype(int)\n"
   ]
  },
  {
   "cell_type": "code",
   "execution_count": 47,
   "id": "a0662168-1698-4bd9-a7df-84e38668c807",
   "metadata": {},
   "outputs": [
    {
     "name": "stdout",
     "output_type": "stream",
     "text": [
      "User Guide: https://docs.kepler.gl/docs/keplergl-jupyter\n"
     ]
    },
    {
     "name": "stderr",
     "output_type": "stream",
     "text": [
      "/opt/anaconda3/envs/citibike_2022/lib/python3.10/site-packages/jupyter_client/session.py:721: UserWarning: Message serialization failed with:\n",
      "Out of range float values are not JSON compliant\n",
      "Supporting this message is deprecated in jupyter-client 7, please make sure your message is JSON-compliant\n",
      "  content = self.pack(content)\n",
      "/opt/anaconda3/envs/citibike_2022/lib/python3.10/site-packages/jupyter_client/session.py:721: UserWarning: Message serialization failed with:\n",
      "Out of range float values are not JSON compliant\n",
      "Supporting this message is deprecated in jupyter-client 7, please make sure your message is JSON-compliant\n",
      "  content = self.pack(content)\n"
     ]
    },
    {
     "data": {
      "application/vnd.jupyter.widget-view+json": {
       "model_id": "9aeece4907744f23991a4989f9728cb9",
       "version_major": 2,
       "version_minor": 0
      },
      "text/plain": [
       "KeplerGl(config={'version': 'v1', 'config': {'visState': {'layers': [{'id': 'stations_layer', 'type': 'point',…"
      ]
     },
     "execution_count": 47,
     "metadata": {},
     "output_type": "execute_result"
    }
   ],
   "source": [
    "from keplergl import KeplerGl\n",
    "\n",
    "# Build a base config with a point layer (stations) and an arc layer (OD flows).\n",
    "# You can still tweak colors, radii, etc. in the GUI after this.\n",
    "base_config = {\n",
    "  \"version\": \"v1\",\n",
    "  \"config\": {\n",
    "    \"visState\": {\n",
    "      \"layers\": [\n",
    "        {\n",
    "          \"id\": \"stations_layer\",\n",
    "          \"type\": \"point\",\n",
    "          \"config\": {\n",
    "            \"dataId\": \"Stations\",\n",
    "            \"label\": \"Stations\",\n",
    "            \"color\": [34, 150, 243],\n",
    "            \"columns\": {\"lat\": \"lat\", \"lng\": \"lng\", \"altitude\": None},\n",
    "            \"isVisible\": True,\n",
    "            \"visConfig\": {\n",
    "              \"radius\": 4,\n",
    "              \"opacity\": 0.8,\n",
    "              \"outline\": False\n",
    "            }\n",
    "          }\n",
    "        },\n",
    "        {\n",
    "          \"id\": \"od_arcs\",\n",
    "          \"type\": \"arc\",\n",
    "          \"config\": {\n",
    "            \"dataId\": \"OD Trips\",\n",
    "            \"label\": \"OD Trips\",\n",
    "            \"color\": [255, 99, 71],   # tomato\n",
    "            \"columns\": {\n",
    "              \"lat0\": \"start_lat\", \"lng0\": \"start_lng\",\n",
    "              \"lat1\": \"end_lat\",   \"lng1\": \"end_lng\"\n",
    "            },\n",
    "            \"isVisible\": True,\n",
    "            \"visConfig\": {\n",
    "              \"opacity\": 0.5,\n",
    "              \"thickness\": 2\n",
    "            }\n",
    "          }\n",
    "        }\n",
    "      ],\n",
    "      \"filters\": []\n",
    "    },\n",
    "    \"mapState\": {\"latitude\": 40.73, \"longitude\": -73.98, \"zoom\": 11},\n",
    "    \"mapStyle\": {\"styleType\": \"dark\"}\n",
    "  }\n",
    "}\n",
    "\n",
    "m = KeplerGl(height=650, config=base_config)\n",
    "m.add_data(data=nodes, name=\"Stations\")\n",
    "m.add_data(data=od,    name=\"OD Trips\")\n",
    "m\n"
   ]
  },
  {
   "cell_type": "markdown",
   "id": "66a2b2a0-8884-474e-8ac3-cc561a0803f7",
   "metadata": {},
   "source": [
    " I pre-set a point layer for stations with small blue markers and an arc layer for OD flows in a contrasting warm color. This helps arcs stand out over the station cloud. I also set transparency (opacity) and thickness to reduce clutter when all flows are visible."
   ]
  },
  {
   "cell_type": "code",
   "execution_count": null,
   "id": "0446a75a-a304-4dcd-a460-8c84423866c2",
   "metadata": {},
   "outputs": [],
   "source": []
  },
  {
   "cell_type": "code",
   "execution_count": null,
   "id": "94582078-b641-41bc-ac2e-d02187213b8b",
   "metadata": {},
   "outputs": [],
   "source": []
  },
  {
   "cell_type": "markdown",
   "id": "bd2f7a57-a8da-47ee-9ab4-735b12811826",
   "metadata": {},
   "source": [
    "## Add a numeric filter on count from Python\n",
    "- inject a numeric range filter into the map config so you can slide to “top trips” right away."
   ]
  },
  {
   "cell_type": "code",
   "execution_count": 48,
   "id": "47f8e460-d3af-4358-b0d5-d266df58dca4",
   "metadata": {},
   "outputs": [
    {
     "data": {
      "application/vnd.jupyter.widget-view+json": {
       "model_id": "9aeece4907744f23991a4989f9728cb9",
       "version_major": 2,
       "version_minor": 0
      },
      "text/plain": [
       "KeplerGl(config={'version': 'v1', 'config': {'visState': {'layers': [{'id': 'stations_layer', 'type': 'point',…"
      ]
     },
     "execution_count": 48,
     "metadata": {},
     "output_type": "execute_result"
    }
   ],
   "source": [
    "import numpy as np\n",
    "\n",
    "# Make sure 'count' is numeric and finite\n",
    "od[\"count\"] = pd.to_numeric(od[\"count\"], errors=\"coerce\")\n",
    "od = od.replace([np.inf, -np.inf], np.nan).dropna(subset=[\"count\"])\n",
    "od[\"count\"] = od[\"count\"].astype(int)\n",
    "\n",
    "# Choose a sensible default range: e.g., from the 80th percentile to max\n",
    "low  = int(od[\"count\"].quantile(0.80))\n",
    "high = int(od[\"count\"].max())\n",
    "\n",
    "# Grab current config (which has your layers) and add a numeric range filter\n",
    "cfg = m.config\n",
    "cfg[\"config\"][\"visState\"][\"filters\"] = [{\n",
    "    \"id\": \"count_range_filter\",\n",
    "    \"dataId\": [\"OD Trips\"],            # dataId is the name you used in add_data\n",
    "    \"name\": [\"count\"],                 # the field to filter on\n",
    "    \"type\": \"range\",                   # <-- force NUMERIC range (not time)\n",
    "    \"enlarged\": True,\n",
    "    \"plotType\": \"histogram\",\n",
    "    \"yAxis\": None,\n",
    "    \"value\": [low, high],              # default selection\n",
    "    \"animationWindow\": \"free\",\n",
    "    \"speed\": 1\n",
    "}]\n",
    "\n",
    "# Apply the updated config to the map\n",
    "m.config = cfg\n",
    "m\n"
   ]
  },
  {
   "cell_type": "markdown",
   "id": "2fa7b2fe-6eb7-4099-931e-7b8ef671cd0f",
   "metadata": {},
   "source": [
    "## Add a station filter (by name, id, etc.)\n"
   ]
  },
  {
   "cell_type": "code",
   "execution_count": 49,
   "id": "d8ff2e68-a443-4df8-a929-417386bc908f",
   "metadata": {},
   "outputs": [
    {
     "data": {
      "application/vnd.jupyter.widget-view+json": {
       "model_id": "9aeece4907744f23991a4989f9728cb9",
       "version_major": 2,
       "version_minor": 0
      },
      "text/plain": [
       "KeplerGl(config={'version': 'v1', 'config': {'visState': {'layers': [{'id': 'stations_layer', 'type': 'point',…"
      ]
     },
     "execution_count": 49,
     "metadata": {},
     "output_type": "execute_result"
    }
   ],
   "source": [
    "# Example: add a category filter on 'start_station_name'\n",
    "station_name_example = od[\"start_station_name\"].mode().iloc[0]  # most common start\n",
    "cfg = m.config\n",
    "\n",
    "cfg[\"config\"][\"visState\"][\"filters\"].append({\n",
    "    \"id\": \"start_station_filter\",\n",
    "    \"dataId\": [\"OD Trips\"],\n",
    "    \"name\": [\"start_station_name\"],\n",
    "    \"type\": \"select\",\n",
    "    \"enlarged\": False,\n",
    "    \"value\": [station_name_example],    # default selection; you can remove to start empty\n",
    "    \"plotType\": \"histogram\"\n",
    "})\n",
    "\n",
    "m.config = cfg\n",
    "m\n"
   ]
  },
  {
   "cell_type": "code",
   "execution_count": 50,
   "id": "546db373-f586-48f6-a85c-535260f0f173",
   "metadata": {},
   "outputs": [
    {
     "name": "stdout",
     "output_type": "stream",
     "text": [
      "Map saved to citibike_kepler_map.html!\n"
     ]
    },
    {
     "data": {
      "text/plain": [
       "'citibike_kepler_map.html'"
      ]
     },
     "execution_count": 50,
     "metadata": {},
     "output_type": "execute_result"
    }
   ],
   "source": [
    "out_html = \"citibike_kepler_map.html\"\n",
    "m.save_to_html(file_name=out_html)\n",
    "out_html\n"
   ]
  },
  {
   "cell_type": "code",
   "execution_count": null,
   "id": "5f9e2458-a1c0-462f-9d9f-bd7365f85144",
   "metadata": {},
   "outputs": [],
   "source": []
  }
 ],
 "metadata": {
  "kernelspec": {
   "display_name": "Python (citibike_2022)",
   "language": "python",
   "name": "citibike_2022"
  },
  "language_info": {
   "codemirror_mode": {
    "name": "ipython",
    "version": 3
   },
   "file_extension": ".py",
   "mimetype": "text/x-python",
   "name": "python",
   "nbconvert_exporter": "python",
   "pygments_lexer": "ipython3",
   "version": "3.10.18"
  }
 },
 "nbformat": 4,
 "nbformat_minor": 5
}
